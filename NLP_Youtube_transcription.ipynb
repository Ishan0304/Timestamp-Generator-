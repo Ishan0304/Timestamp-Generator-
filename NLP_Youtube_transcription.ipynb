{
 "cells": [
  {
   "cell_type": "code",
   "execution_count": 1,
   "metadata": {},
   "outputs": [],
   "source": [
    "#pip install pytube\n",
    "#pip install --upgrade pip\n",
    "#pip install ffmpeg\n",
    "#pip install youtube_dl\n",
    "#pip install SpeechRecognition\n",
    "#pip install Wave\n",
    "#pip install ibm_watson"
   ]
  },
  {
   "cell_type": "code",
   "execution_count": 2,
   "metadata": {},
   "outputs": [],
   "source": [
    "from pytube import YouTube\n",
    "from glob import glob\n",
    "import youtube_dl\n",
    "import os\n",
    "import speech_recognition as sr\n",
    "import ffmpeg\n",
    "from ibm_watson import SpeechToTextV1\n",
    "from ibm_cloud_sdk_core.authenticators import IAMAuthenticator\n",
    "from pytube import Playlist\n",
    "import wave, math, contextlib\n",
    "import subprocess \n",
    "from pydub import AudioSegment\n",
    "#from pydub.utils import mediainfo\n",
    "from pydub.utils import make_chunks"
   ]
  },
  {
   "cell_type": "code",
   "execution_count": 4,
   "metadata": {},
   "outputs": [
    {
     "name": "stdout",
     "output_type": "stream",
     "text": [
      "Enter the youtube link: https://youtu.be/mbOilSZ0LHk\n",
      "[youtube] mbOilSZ0LHk: Downloading webpage\n",
      "[download] Destination: bob marley ganja gun lyrics-mbOilSZ0LHk.m4a\n",
      "[download] 100% of 4.45MiB in 00:0010MiB/s ETA 00:005\n",
      "[ffmpeg] Correcting container in \"bob marley ganja gun lyrics-mbOilSZ0LHk.m4a\"\n",
      "[ffmpeg] Destination: bob marley ganja gun lyrics-mbOilSZ0LHk.mp3\n",
      "Deleting original file bob marley ganja gun lyrics-mbOilSZ0LHk.m4a (pass -k to keep)\n",
      "/home/ishanharshvardhan\n"
     ]
    },
    {
     "data": {
      "text/plain": [
       "'/home/ishanharshvardhan/bob marley ganja gun lyrics-mbOilSZ0LHk.mp3'"
      ]
     },
     "execution_count": 4,
     "metadata": {},
     "output_type": "execute_result"
    }
   ],
   "source": [
    "from __future__ import unicode_literals\n",
    "ydl_opts = {\n",
    "    'format': 'bestaudio/best',\n",
    "    'postprocessors': [{'key': 'FFmpegExtractAudio','preferredcodec': 'mp3','preferredquality': '192',}],\n",
    "}\n",
    "enter_url= input(\"Enter the youtube link: \") \n",
    "with youtube_dl.YoutubeDL(ydl_opts) as ydl:\n",
    "    ydl.download([enter_url])\n",
    "    \n",
    "path=os.getcwd()\n",
    "print(path)\n",
    "data_dir=path\n",
    "audio_file=glob(data_dir+'/*.mp3')\n",
    "len(audio_file)\n",
    "audio_a=audio_file[0]\n",
    "audio_a"
   ]
  },
  {
   "cell_type": "code",
   "execution_count": 5,
   "metadata": {},
   "outputs": [],
   "source": [
    "apikey = 'zFMR5B6lEfdoGDH5LjcWazq9_vxFwP5EOwsbaZTneOFy'\n",
    "url = 'https://api.eu-gb.speech-to-text.watson.cloud.ibm.com/instances/7ff61e2a-85d5-41bf-9364-efc1627eb961'\n",
    "\n",
    "authenticator = IAMAuthenticator(apikey)\n",
    "stt = SpeechToTextV1(authenticator = authenticator)\n",
    "stt.set_service_url(url)"
   ]
  },
  {
   "cell_type": "code",
   "execution_count": 6,
   "metadata": {},
   "outputs": [
    {
     "name": "stdout",
     "output_type": "stream",
     "text": [
      "0.mp3\n",
      "1.mp3\n",
      "2.mp3\n",
      "3.mp3\n",
      "4.mp3\n",
      "5.mp3\n"
     ]
    }
   ],
   "source": [
    "files = []\n",
    "myaudio = AudioSegment.from_file(audio_a , \"mp3\")\n",
    "channel_count = myaudio.channels    #Get channels\n",
    "sample_width = myaudio.sample_width #Get sample width\n",
    "duration_in_sec = len(myaudio) / 1000#Length of audio in sec\n",
    "sample_rate = myaudio.frame_rate\n",
    "bit_rate =16  #assumption , you can extract from mediainfo(\"test.mp3\") dynamically\n",
    "mp3_file_size = (sample_rate * bit_rate * channel_count * duration_in_sec) / 8\n",
    "file_split_size = 10000000  # 10Mb OR 10, 000, 000 bytes\n",
    "total_chunks =  mp3_file_size // file_split_size\n",
    "\n",
    "chunk_length_in_sec = math.ceil((duration_in_sec * 10000000 ) /mp3_file_size)   #in sec\n",
    "chunk_length_ms = chunk_length_in_sec * 1000\n",
    "chunks = make_chunks(myaudio, chunk_length_ms)\n",
    "#Export all of the individual chunks as mp3 files\n",
    "for i, chunk in enumerate(chunks):\n",
    "    chunk_name = \"{0}.mp3\".format(i)\n",
    "    files.append(chunk_name)\n",
    "    print (chunk_name)\n",
    "    chunk.export(chunk_name, format=\"mp3\")\n",
    "    #sorted_files = sorted(files)\n",
    "os.remove(audio_a)"
   ]
  },
  {
   "cell_type": "code",
   "execution_count": 7,
   "metadata": {},
   "outputs": [
    {
     "data": {
      "text/plain": [
       "['%HESITATION.\\n',\n",
       " \"you're no on that.\\n\",\n",
       " '%HESITATION when %HESITATION we.\\n',\n",
       " \"we're going.\\n\",\n",
       " '%HESITATION.\\n',\n",
       " 'god %HESITATION god %HESITATION %HESITATION.\\n',\n",
       " '%HESITATION.\\n',\n",
       " '%HESITATION %HESITATION.\\n',\n",
       " '%HESITATION.\\n',\n",
       " 'thank god.\\n',\n",
       " \"although I'm not saying that they've done things %HESITATION.\\n\",\n",
       " '%HESITATION.\\n',\n",
       " '%HESITATION.\\n',\n",
       " '%HESITATION.\\n',\n",
       " 'god god god god %HESITATION.\\n',\n",
       " '%HESITATION job do you yeah I will guide the guns on many.\\n',\n",
       " '%HESITATION.\\n',\n",
       " \"%HESITATION %HESITATION %HESITATION %HESITATION you've got do you well do you do you have %HESITATION we.\\n\",\n",
       " '%HESITATION.\\n',\n",
       " '%HESITATION.\\n',\n",
       " 'John.\\n',\n",
       " '%HESITATION.\\n',\n",
       " '%HESITATION.\\n',\n",
       " '%HESITATION.\\n',\n",
       " '%HESITATION.\\n',\n",
       " '%HESITATION %HESITATION %HESITATION %HESITATION %HESITATION %HESITATION %HESITATION %HESITATION down there by the name nothing.\\n',\n",
       " 'updated.\\n',\n",
       " '%HESITATION they always very well.\\n',\n",
       " '%HESITATION %HESITATION.\\n',\n",
       " '%HESITATION.\\n',\n",
       " '%HESITATION %HESITATION %HESITATION %HESITATION %HESITATION %HESITATION %HESITATION.\\n',\n",
       " '%HESITATION %HESITATION %HESITATION %HESITATION %HESITATION.\\n',\n",
       " '%HESITATION.\\n',\n",
       " '%HESITATION %HESITATION %HESITATION %HESITATION %HESITATION.\\n']"
      ]
     },
     "execution_count": 7,
     "metadata": {},
     "output_type": "execute_result"
    }
   ],
   "source": [
    "results = []\n",
    "for filename in files:\n",
    "    with open(filename, 'rb') as f:\n",
    "        res = stt.recognize(audio=f, content_type='audio/mp3', model='en-US_NarrowbandModel', continuous=True, \\\n",
    "                           inactivity_timeout=360).get_result()\n",
    "        results.append(res)\n",
    "text = []\n",
    "for file in results:\n",
    "    for result in file['results']:\n",
    "        text.append(result['alternatives'][0]['transcript'].rstrip() + '.\\n')\n",
    "text"
   ]
  },
  {
   "cell_type": "code",
   "execution_count": null,
   "metadata": {},
   "outputs": [],
   "source": []
  }
 ],
 "metadata": {
  "kernelspec": {
   "display_name": "Python 3",
   "language": "python",
   "name": "python3"
  },
  "language_info": {
   "codemirror_mode": {
    "name": "ipython",
    "version": 3
   },
   "file_extension": ".py",
   "mimetype": "text/x-python",
   "name": "python",
   "nbconvert_exporter": "python",
   "pygments_lexer": "ipython3",
   "version": "3.7.6"
  }
 },
 "nbformat": 4,
 "nbformat_minor": 4
}
